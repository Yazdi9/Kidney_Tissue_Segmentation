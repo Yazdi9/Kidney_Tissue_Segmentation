{
 "cells": [
  {
   "cell_type": "code",
   "execution_count": 1,
   "id": "bda2b322",
   "metadata": {
    "execution": {
     "iopub.execute_input": "2023-07-31T18:25:17.869031Z",
     "iopub.status.busy": "2023-07-31T18:25:17.868205Z",
     "iopub.status.idle": "2023-07-31T18:25:17.879892Z",
     "shell.execute_reply": "2023-07-31T18:25:17.879052Z"
    },
    "papermill": {
     "duration": 0.01844,
     "end_time": "2023-07-31T18:25:17.882130",
     "exception": false,
     "start_time": "2023-07-31T18:25:17.863690",
     "status": "completed"
    },
    "tags": []
   },
   "outputs": [],
   "source": [
    "import numpy as np\n",
    "import pandas as pd"
   ]
  },
  {
   "cell_type": "code",
   "execution_count": 2,
   "id": "b7ea96e5",
   "metadata": {
    "execution": {
     "iopub.execute_input": "2023-07-31T18:25:17.889318Z",
     "iopub.status.busy": "2023-07-31T18:25:17.889064Z",
     "iopub.status.idle": "2023-07-31T18:25:17.905108Z",
     "shell.execute_reply": "2023-07-31T18:25:17.904283Z"
    },
    "papermill": {
     "duration": 0.022051,
     "end_time": "2023-07-31T18:25:17.907221",
     "exception": false,
     "start_time": "2023-07-31T18:25:17.885170",
     "status": "completed"
    },
    "tags": []
   },
   "outputs": [],
   "source": [
    "def rle2mask(mask_rle, shape=(1600,256)):\n",
    "    '''\n",
    "    mask_rle: run-length as string formated (start length)\n",
    "    shape: (width,height) of array to return \n",
    "    Returns numpy array, 1 - mask, 0 - background\n",
    "\n",
    "    '''\n",
    "    s = mask_rle.split()\n",
    "    starts, lengths = [np.asarray(x, dtype=int) for x in (s[0:][::2], s[1:][::2])]\n",
    "    starts -= 1\n",
    "    ends = starts + lengths\n",
    "    img = np.zeros(shape[0]*shape[1], dtype=np.uint8)\n",
    "    for lo, hi in zip(starts, ends):\n",
    "        img[lo:hi] = 1\n",
    "    return img.reshape(shape).T\n",
    "\n",
    "\n",
    "#https://www.kaggle.com/bguberfain/memory-aware-rle-encoding\n",
    "def rle_encode_less_memory(img):\n",
    "    '''\n",
    "    img: numpy array, 1 - mask, 0 - background\n",
    "    Returns run length as string formated\n",
    "    This simplified method requires first and last pixel to be zero\n",
    "    '''\n",
    "    pixels = img.T.flatten()\n",
    "    \n",
    "    # This simplified method requires first and last pixel to be zero\n",
    "    pixels[0] = 0\n",
    "    pixels[-1] = 0\n",
    "    runs = np.where(pixels[1:] != pixels[:-1])[0] + 2\n",
    "    runs[1::2] -= runs[::2]\n",
    "    \n",
    "    return ' '.join(str(x) for x in runs)\n",
    "\n",
    "def image_size_dict(img_id, x, y):\n",
    "    image_id = [thing[:-5] for thing in img_id]\n",
    "    x_y = [(x[i], y[i]) for i in range(0, len(x))]    \n",
    "    return dict(zip(image_id, x_y))\n",
    "\n",
    "\n",
    "def global_shift_mask(maskpred1, y_shift, x_shift):\n",
    "    \"\"\"\n",
    "    applies a global shift to a mask by padding one side and cropping from the other\n",
    "    \"\"\"\n",
    "    if y_shift <0 and x_shift >=0:\n",
    "        maskpred2 = np.pad(maskpred1, [(0,abs(y_shift)), (abs(x_shift), 0)], mode='constant', constant_values=0)\n",
    "        maskpred3 = maskpred2[abs(y_shift):, :maskpred1.shape[1]]\n",
    "    elif y_shift >=0 and x_shift <0:\n",
    "        maskpred2 = np.pad(maskpred1, [(abs(y_shift),0), (0, abs(x_shift))], mode='constant', constant_values=0)\n",
    "        maskpred3 = maskpred2[:maskpred1.shape[0], abs(x_shift):]\n",
    "    elif y_shift >=0 and x_shift >=0:\n",
    "        maskpred2 = np.pad(maskpred1, [(abs(y_shift),0), (abs(x_shift), 0)], mode='constant', constant_values=0)\n",
    "        maskpred3 = maskpred2[:maskpred1.shape[0], :maskpred1.shape[1]]\n",
    "    elif y_shift < 0 and x_shift < 0:\n",
    "        maskpred2 = np.pad(maskpred1, [(0, abs(y_shift)), (0, abs(x_shift))], mode='constant', constant_values=0)\n",
    "        maskpred3 = maskpred2[abs(y_shift):, abs(x_shift):]\n",
    "    return maskpred3"
   ]
  },
  {
   "cell_type": "code",
   "execution_count": 3,
   "id": "35819290",
   "metadata": {
    "execution": {
     "iopub.execute_input": "2023-07-31T18:25:17.914091Z",
     "iopub.status.busy": "2023-07-31T18:25:17.913839Z",
     "iopub.status.idle": "2023-07-31T18:25:18.020545Z",
     "shell.execute_reply": "2023-07-31T18:25:18.018264Z"
    },
    "papermill": {
     "duration": 0.113551,
     "end_time": "2023-07-31T18:25:18.023624",
     "exception": false,
     "start_time": "2023-07-31T18:25:17.910073",
     "status": "completed"
    },
    "tags": []
   },
   "outputs": [],
   "source": [
    "dfpred = pd.read_csv('../input/best-public-hubmap/submission_public_TPU.csv')\n",
    "TARGET_ID = 'afa5e8098'\n",
    "y_shift = -40\n",
    "x_shift = -24"
   ]
  },
  {
   "cell_type": "code",
   "execution_count": 4,
   "id": "f7087acc",
   "metadata": {
    "execution": {
     "iopub.execute_input": "2023-07-31T18:25:18.032011Z",
     "iopub.status.busy": "2023-07-31T18:25:18.031730Z",
     "iopub.status.idle": "2023-07-31T18:25:18.054934Z",
     "shell.execute_reply": "2023-07-31T18:25:18.054075Z"
    },
    "papermill": {
     "duration": 0.029697,
     "end_time": "2023-07-31T18:25:18.057012",
     "exception": false,
     "start_time": "2023-07-31T18:25:18.027315",
     "status": "completed"
    },
    "tags": []
   },
   "outputs": [],
   "source": [
    "#get image sizes \n",
    "\n",
    "dfinfo = pd.read_csv('../input/hubmap-kidney-segmentation/HuBMAP-20-dataset_information.csv')\n",
    "\n",
    "size_dict = image_size_dict(dfinfo.image_file, dfinfo.width_pixels, dfinfo.height_pixels)  #dict which contains image sizes mapped to id's\n",
    "mask_shape = size_dict.get(TARGET_ID)\n",
    "\n",
    "taridx = dfpred[dfpred['id']==TARGET_ID].index.values[0]  #row of TARGET_ID in dfpred"
   ]
  },
  {
   "cell_type": "code",
   "execution_count": 5,
   "id": "c07c115d",
   "metadata": {
    "execution": {
     "iopub.execute_input": "2023-07-31T18:25:18.064125Z",
     "iopub.status.busy": "2023-07-31T18:25:18.063863Z",
     "iopub.status.idle": "2023-07-31T18:25:40.070141Z",
     "shell.execute_reply": "2023-07-31T18:25:40.069139Z"
    },
    "papermill": {
     "duration": 22.012701,
     "end_time": "2023-07-31T18:25:40.072717",
     "exception": false,
     "start_time": "2023-07-31T18:25:18.060016",
     "status": "completed"
    },
    "tags": []
   },
   "outputs": [],
   "source": [
    "maskpred = rle2mask(dfpred.iloc[taridx]['predicted'], mask_shape)\n",
    "\n",
    "maskpred1 = maskpred.copy()\n",
    "maskpred1[maskpred1>0]=1"
   ]
  },
  {
   "cell_type": "code",
   "execution_count": 6,
   "id": "9a1a4373",
   "metadata": {
    "execution": {
     "iopub.execute_input": "2023-07-31T18:25:40.080185Z",
     "iopub.status.busy": "2023-07-31T18:25:40.079901Z",
     "iopub.status.idle": "2023-07-31T18:25:40.544605Z",
     "shell.execute_reply": "2023-07-31T18:25:40.543572Z"
    },
    "papermill": {
     "duration": 0.471229,
     "end_time": "2023-07-31T18:25:40.547072",
     "exception": false,
     "start_time": "2023-07-31T18:25:40.075843",
     "status": "completed"
    },
    "tags": []
   },
   "outputs": [],
   "source": [
    "mask_shifted = global_shift_mask(maskpred1, y_shift, x_shift)  #apply specified shift to mask"
   ]
  },
  {
   "cell_type": "code",
   "execution_count": 7,
   "id": "dfcbb491",
   "metadata": {
    "execution": {
     "iopub.execute_input": "2023-07-31T18:25:40.555387Z",
     "iopub.status.busy": "2023-07-31T18:25:40.555082Z",
     "iopub.status.idle": "2023-07-31T18:25:46.334480Z",
     "shell.execute_reply": "2023-07-31T18:25:46.333411Z"
    },
    "papermill": {
     "duration": 5.786512,
     "end_time": "2023-07-31T18:25:46.337245",
     "exception": false,
     "start_time": "2023-07-31T18:25:40.550733",
     "status": "completed"
    },
    "tags": []
   },
   "outputs": [],
   "source": [
    "newrle = rle_encode_less_memory(mask_shifted)  #rle encode shifted mask\n",
    "\n",
    "dfpred.at[taridx, 'predicted'] = newrle\n",
    "\n",
    "dfsample = pd.read_csv('../input/hubmap-kidney-segmentation/sample_submission.csv')\n",
    "\n",
    "mydict = dict(zip(dfpred['id'], dfpred['predicted']))\n",
    "\n",
    "dfsample['predicted'] = dfsample['id'].map(mydict).fillna(dfsample['predicted'])\n",
    "\n",
    "dfsample = dfsample.replace(np.nan, '', regex=True)\n",
    "\n",
    "dfsample.to_csv('submission.csv',index=False)"
   ]
  },
  {
   "cell_type": "code",
   "execution_count": 8,
   "id": "fab1f152",
   "metadata": {
    "execution": {
     "iopub.execute_input": "2023-07-31T18:25:46.346067Z",
     "iopub.status.busy": "2023-07-31T18:25:46.345695Z",
     "iopub.status.idle": "2023-07-31T18:25:46.361730Z",
     "shell.execute_reply": "2023-07-31T18:25:46.360564Z"
    },
    "papermill": {
     "duration": 0.023338,
     "end_time": "2023-07-31T18:25:46.364335",
     "exception": false,
     "start_time": "2023-07-31T18:25:46.340997",
     "status": "completed"
    },
    "tags": []
   },
   "outputs": [
    {
     "data": {
      "text/html": [
       "<div>\n",
       "<style scoped>\n",
       "    .dataframe tbody tr th:only-of-type {\n",
       "        vertical-align: middle;\n",
       "    }\n",
       "\n",
       "    .dataframe tbody tr th {\n",
       "        vertical-align: top;\n",
       "    }\n",
       "\n",
       "    .dataframe thead th {\n",
       "        text-align: right;\n",
       "    }\n",
       "</style>\n",
       "<table border=\"1\" class=\"dataframe\">\n",
       "  <thead>\n",
       "    <tr style=\"text-align: right;\">\n",
       "      <th></th>\n",
       "      <th>id</th>\n",
       "      <th>predicted</th>\n",
       "    </tr>\n",
       "  </thead>\n",
       "  <tbody>\n",
       "    <tr>\n",
       "      <th>0</th>\n",
       "      <td>2ec3f1bb9</td>\n",
       "      <td></td>\n",
       "    </tr>\n",
       "    <tr>\n",
       "      <th>1</th>\n",
       "      <td>3589adb90</td>\n",
       "      <td></td>\n",
       "    </tr>\n",
       "    <tr>\n",
       "      <th>2</th>\n",
       "      <td>d488c759a</td>\n",
       "      <td></td>\n",
       "    </tr>\n",
       "    <tr>\n",
       "      <th>3</th>\n",
       "      <td>aa05346ff</td>\n",
       "      <td></td>\n",
       "    </tr>\n",
       "    <tr>\n",
       "      <th>4</th>\n",
       "      <td>57512b7f1</td>\n",
       "      <td></td>\n",
       "    </tr>\n",
       "  </tbody>\n",
       "</table>\n",
       "</div>"
      ],
      "text/plain": [
       "          id predicted\n",
       "0  2ec3f1bb9          \n",
       "1  3589adb90          \n",
       "2  d488c759a          \n",
       "3  aa05346ff          \n",
       "4  57512b7f1          "
      ]
     },
     "execution_count": 8,
     "metadata": {},
     "output_type": "execute_result"
    }
   ],
   "source": [
    "dfsample.head()"
   ]
  }
 ],
 "metadata": {
  "kernelspec": {
   "display_name": "Python 3",
   "language": "python",
   "name": "python3"
  },
  "language_info": {
   "codemirror_mode": {
    "name": "ipython",
    "version": 3
   },
   "file_extension": ".py",
   "mimetype": "text/x-python",
   "name": "python",
   "nbconvert_exporter": "python",
   "pygments_lexer": "ipython3",
   "version": "3.10.12"
  },
  "papermill": {
   "default_parameters": {},
   "duration": 39.2736,
   "end_time": "2023-07-31T18:25:47.090022",
   "environment_variables": {},
   "exception": null,
   "input_path": "__notebook__.ipynb",
   "output_path": "__notebook__.ipynb",
   "parameters": {},
   "start_time": "2023-07-31T18:25:07.816422",
   "version": "2.4.0"
  }
 },
 "nbformat": 4,
 "nbformat_minor": 5
}
